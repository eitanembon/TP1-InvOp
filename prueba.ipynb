{
 "cells": [
  {
   "cell_type": "code",
   "execution_count": 6,
   "metadata": {},
   "outputs": [],
   "source": [
    "from generateinputs import *  \n",
    "from src import * \n",
    "import cplex\n",
    "\n"
   ]
  },
  {
   "cell_type": "code",
   "execution_count": null,
   "metadata": {},
   "outputs": [],
   "source": [
    "generate_inputs()"
   ]
  },
  {
   "cell_type": "code",
   "execution_count": 2,
   "metadata": {},
   "outputs": [
    {
     "name": "stderr",
     "output_type": "stream",
     "text": [
      "Warning:  Output names have been modified due to duplicate names or characters invalid in LP format.\n"
     ]
    }
   ],
   "source": [
    "# Lectura de datos desde el archivo de entrada\n",
    "instancia = cargar_instancia('inputs/input_10_30_3_3_0_2.txt')\n",
    "\n",
    "# Definicion del problema de Cplex\n",
    "prob = cplex.Cplex()\n",
    "\n",
    "# Definicion del modelo\n",
    "model = Modelo(instancia, prob)\n",
    "\n",
    "# Armamos modelo\n",
    "model.armar_lp()\n",
    "\n"
   ]
  },
  {
   "cell_type": "code",
   "execution_count": 4,
   "metadata": {},
   "outputs": [
    {
     "name": "stdout",
     "output_type": "stream",
     "text": [
      "Funcion objetivo:  0.0 (integer optimal solution)\n",
      "Variables con valor positivo:\n"
     ]
    }
   ],
   "source": [
    "\n",
    "# Resolucion del modelo\n",
    "# model.resolver_lp()\n",
    "\n",
    "# Obtencion de la solucion\n",
    "model.mostrar_solucion()"
   ]
  }
 ],
 "metadata": {
  "kernelspec": {
   "display_name": "base",
   "language": "python",
   "name": "python3"
  },
  "language_info": {
   "codemirror_mode": {
    "name": "ipython",
    "version": 3
   },
   "file_extension": ".py",
   "mimetype": "text/x-python",
   "name": "python",
   "nbconvert_exporter": "python",
   "pygments_lexer": "ipython3",
   "version": "3.9.19"
  },
  "orig_nbformat": 4,
  "vscode": {
   "interpreter": {
    "hash": "6e3dcbfb7535de41de26d8488ca579d49cedcd6ffca856a7a3b48784494fce4e"
   }
  }
 },
 "nbformat": 4,
 "nbformat_minor": 2
}
