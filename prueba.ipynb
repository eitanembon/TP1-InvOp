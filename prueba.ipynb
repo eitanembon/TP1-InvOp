{
 "cells": [
  {
   "cell_type": "code",
   "execution_count": 1,
   "metadata": {},
   "outputs": [],
   "source": [
    "import cplex\n",
    "from inputs.generateinputs import *  \n",
    "from asignacion_cuadrillas import cargar_instancia, Modelo\n",
    "\n"
   ]
  },
  {
   "cell_type": "code",
   "execution_count": 2,
   "metadata": {},
   "outputs": [
    {
     "ename": "KeyboardInterrupt",
     "evalue": "",
     "output_type": "error",
     "traceback": [
      "\u001b[0;31m---------------------------------------------------------------------------\u001b[0m",
      "\u001b[0;31mKeyboardInterrupt\u001b[0m                         Traceback (most recent call last)",
      "Cell \u001b[0;32mIn[2], line 1\u001b[0m\n\u001b[0;32m----> 1\u001b[0m \u001b[43mgenerate_inputs\u001b[49m\u001b[43m(\u001b[49m\u001b[43m)\u001b[49m\n",
      "File \u001b[0;32m~/Documentos/Compu/InvOperativa/TP1-InvOp/inputs/generateinputs.py:33\u001b[0m, in \u001b[0;36mgenerate_inputs\u001b[0;34m()\u001b[0m\n\u001b[1;32m     31\u001b[0m instancia\u001b[38;5;241m.\u001b[39mconflictos_trabajadores \u001b[38;5;241m=\u001b[39m [generar_par_aleratorio(cant_trabajadores) \u001b[38;5;28;01mfor\u001b[39;00m i \u001b[38;5;129;01min\u001b[39;00m \u001b[38;5;28mrange\u001b[39m(cant_conflictos_trabajadores)]\n\u001b[1;32m     32\u001b[0m instancia\u001b[38;5;241m.\u001b[39mordenes_correlativas \u001b[38;5;241m=\u001b[39m [generar_par_aleratorio(cant_ordenes_correlativas) \u001b[38;5;28;01mfor\u001b[39;00m i \u001b[38;5;129;01min\u001b[39;00m \u001b[38;5;28mrange\u001b[39m(cant_ordenes_correlativas)]\n\u001b[0;32m---> 33\u001b[0m instancia\u001b[38;5;241m.\u001b[39mordenes_conflictivas \u001b[38;5;241m=\u001b[39m [generar_par_aleratorio(cant_ordenes_correlativas) \u001b[38;5;28;01mfor\u001b[39;00m i \u001b[38;5;129;01min\u001b[39;00m \u001b[38;5;28mrange\u001b[39m(cant_ordenes_conflictivas)]\n\u001b[1;32m     34\u001b[0m instancia\u001b[38;5;241m.\u001b[39mordenes_repetitivas \u001b[38;5;241m=\u001b[39m [generar_par_aleratorio(cant_ordenes_correlativas) \u001b[38;5;28;01mfor\u001b[39;00m i \u001b[38;5;129;01min\u001b[39;00m \u001b[38;5;28mrange\u001b[39m(cant_ordenes_repetitivas)]\n\u001b[1;32m     35\u001b[0m \u001b[38;5;66;03m# Save the instance to a file\u001b[39;00m\n",
      "File \u001b[0;32m~/Documentos/Compu/InvOperativa/TP1-InvOp/inputs/generateinputs.py:33\u001b[0m, in \u001b[0;36m<listcomp>\u001b[0;34m(.0)\u001b[0m\n\u001b[1;32m     31\u001b[0m instancia\u001b[38;5;241m.\u001b[39mconflictos_trabajadores \u001b[38;5;241m=\u001b[39m [generar_par_aleratorio(cant_trabajadores) \u001b[38;5;28;01mfor\u001b[39;00m i \u001b[38;5;129;01min\u001b[39;00m \u001b[38;5;28mrange\u001b[39m(cant_conflictos_trabajadores)]\n\u001b[1;32m     32\u001b[0m instancia\u001b[38;5;241m.\u001b[39mordenes_correlativas \u001b[38;5;241m=\u001b[39m [generar_par_aleratorio(cant_ordenes_correlativas) \u001b[38;5;28;01mfor\u001b[39;00m i \u001b[38;5;129;01min\u001b[39;00m \u001b[38;5;28mrange\u001b[39m(cant_ordenes_correlativas)]\n\u001b[0;32m---> 33\u001b[0m instancia\u001b[38;5;241m.\u001b[39mordenes_conflictivas \u001b[38;5;241m=\u001b[39m [\u001b[43mgenerar_par_aleratorio\u001b[49m\u001b[43m(\u001b[49m\u001b[43mcant_ordenes_correlativas\u001b[49m\u001b[43m)\u001b[49m \u001b[38;5;28;01mfor\u001b[39;00m i \u001b[38;5;129;01min\u001b[39;00m \u001b[38;5;28mrange\u001b[39m(cant_ordenes_conflictivas)]\n\u001b[1;32m     34\u001b[0m instancia\u001b[38;5;241m.\u001b[39mordenes_repetitivas \u001b[38;5;241m=\u001b[39m [generar_par_aleratorio(cant_ordenes_correlativas) \u001b[38;5;28;01mfor\u001b[39;00m i \u001b[38;5;129;01min\u001b[39;00m \u001b[38;5;28mrange\u001b[39m(cant_ordenes_repetitivas)]\n\u001b[1;32m     35\u001b[0m \u001b[38;5;66;03m# Save the instance to a file\u001b[39;00m\n",
      "File \u001b[0;32m~/Documentos/Compu/InvOperativa/TP1-InvOp/inputs/generateinputs.py:10\u001b[0m, in \u001b[0;36mgenerar_par_aleratorio\u001b[0;34m(maximo)\u001b[0m\n\u001b[1;32m      8\u001b[0m \u001b[38;5;28;01mdef\u001b[39;00m \u001b[38;5;21mgenerar_par_aleratorio\u001b[39m(maximo):\n\u001b[1;32m      9\u001b[0m     \u001b[38;5;28;01mwhile\u001b[39;00m \u001b[38;5;28;01mTrue\u001b[39;00m:\n\u001b[0;32m---> 10\u001b[0m         a \u001b[38;5;241m=\u001b[39m \u001b[43mrandom\u001b[49m\u001b[38;5;241;43m.\u001b[39;49m\u001b[43mrandint\u001b[49m\u001b[43m(\u001b[49m\u001b[38;5;241;43m0\u001b[39;49m\u001b[43m,\u001b[49m\u001b[43m \u001b[49m\u001b[43mmaximo\u001b[49m\u001b[43m)\u001b[49m\n\u001b[1;32m     11\u001b[0m         b \u001b[38;5;241m=\u001b[39m random\u001b[38;5;241m.\u001b[39mrandint(\u001b[38;5;241m0\u001b[39m, maximo)\n\u001b[1;32m     12\u001b[0m         \u001b[38;5;28;01mif\u001b[39;00m a \u001b[38;5;241m!=\u001b[39m b:\n",
      "File \u001b[0;32m~/miniconda3/lib/python3.9/random.py:338\u001b[0m, in \u001b[0;36mRandom.randint\u001b[0;34m(self, a, b)\u001b[0m\n\u001b[1;32m    334\u001b[0m \u001b[38;5;28;01mdef\u001b[39;00m \u001b[38;5;21mrandint\u001b[39m(\u001b[38;5;28mself\u001b[39m, a, b):\n\u001b[1;32m    335\u001b[0m \u001b[38;5;250m    \u001b[39m\u001b[38;5;124;03m\"\"\"Return random integer in range [a, b], including both end points.\u001b[39;00m\n\u001b[1;32m    336\u001b[0m \u001b[38;5;124;03m    \"\"\"\u001b[39;00m\n\u001b[0;32m--> 338\u001b[0m     \u001b[38;5;28;01mreturn\u001b[39;00m \u001b[38;5;28mself\u001b[39m\u001b[38;5;241m.\u001b[39mrandrange(a, \u001b[43mb\u001b[49m\u001b[38;5;241;43m+\u001b[39;49m\u001b[38;5;241;43m1\u001b[39;49m)\n",
      "\u001b[0;31mKeyboardInterrupt\u001b[0m: "
     ]
    }
   ],
   "source": [
    "generate_inputs()"
   ]
  },
  {
   "cell_type": "code",
   "execution_count": 2,
   "metadata": {},
   "outputs": [
    {
     "name": "stderr",
     "output_type": "stream",
     "text": [
      "Warning:  Output names have been modified due to duplicate names or characters invalid in LP format.\n"
     ]
    }
   ],
   "source": [
    "# Lectura de datos desde el archivo de entrada\n",
    "instancia = cargar_instancia('inputs/input_10_30_3_3_0_2.txt')\n",
    "\n",
    "# Definicion del problema de Cplex\n",
    "prob = cplex.Cplex()\n",
    "\n",
    "# Definicion del modelo\n",
    "model = Modelo(instancia, prob)\n",
    "\n",
    "# Armamos modelo\n",
    "model.armar_lp()\n",
    "\n"
   ]
  },
  {
   "cell_type": "code",
   "execution_count": 4,
   "metadata": {},
   "outputs": [
    {
     "name": "stdout",
     "output_type": "stream",
     "text": [
      "Funcion objetivo:  0.0 (integer optimal solution)\n",
      "Variables con valor positivo:\n"
     ]
    }
   ],
   "source": [
    "\n",
    "# Resolucion del modelo\n",
    "# model.resolver_lp()\n",
    "\n",
    "# Obtencion de la solucion\n",
    "model.mostrar_solucion()"
   ]
  }
 ],
 "metadata": {
  "kernelspec": {
   "display_name": "base",
   "language": "python",
   "name": "python3"
  },
  "language_info": {
   "codemirror_mode": {
    "name": "ipython",
    "version": 3
   },
   "file_extension": ".py",
   "mimetype": "text/x-python",
   "name": "python",
   "nbconvert_exporter": "python",
   "pygments_lexer": "ipython3",
   "version": "3.9.19"
  },
  "orig_nbformat": 4,
  "vscode": {
   "interpreter": {
    "hash": "6e3dcbfb7535de41de26d8488ca579d49cedcd6ffca856a7a3b48784494fce4e"
   }
  }
 },
 "nbformat": 4,
 "nbformat_minor": 2
}
