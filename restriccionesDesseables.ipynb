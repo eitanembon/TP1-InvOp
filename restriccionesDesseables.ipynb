{
 "cells": [
  {
   "cell_type": "markdown",
   "metadata": {},
   "source": [
    "## Experimentación sobre distintos escenarios"
   ]
  },
  {
   "cell_type": "code",
   "execution_count": 5,
   "metadata": {},
   "outputs": [],
   "source": [
    "from src import *\n",
    "import cplex\n",
    "import glob\n",
    "from pathlib import Path\n",
    "\n",
    "instances_path = \"/home/eitancho/Documentos/Compu/InvOperativa/TP1-InvOp/inputs_v2/\""
   ]
  },
  {
   "cell_type": "code",
   "execution_count": 6,
   "metadata": {},
   "outputs": [
    {
     "ename": "",
     "evalue": "",
     "output_type": "error",
     "traceback": [
      "\u001b[1;31mEl kernel se bloqueó al ejecutar código en la celda actual o en una celda anterior. \n",
      "\u001b[1;31mRevise el código de las celdas para identificar una posible causa del error. \n",
      "\u001b[1;31mHaga clic <a href='https://aka.ms/vscodeJupyterKernelCrash'>aquí</a> para obtener más información. \n",
      "\u001b[1;31mVea Jupyter <a href='command:jupyter.viewOutput'>log</a> para obtener más detalles."
     ]
    }
   ],
   "source": [
    "def corre_instancia_en_modelo(model:Modelo, results):\n",
    "    # Armamos modelo\n",
    "    print('Armando la lp')\n",
    "    model.armar_lp('lps/')\n",
    "    \n",
    "    print('Resolviendo la lp')\n",
    "    # Resolucion del modelo\n",
    "    model.resolver_lp('logs')\n",
    "\n",
    "    print('Guardando resultados')\n",
    "    # Guardamos resultados\n",
    "    model.guardar_resultados(results)\n",
    "\n",
    "    return model    "
   ]
  },
  {
   "cell_type": "markdown",
   "metadata": {},
   "source": [
    "### Corremos una vez la lp para obtener el valor de la función objetivo"
   ]
  },
  {
   "cell_type": "code",
   "execution_count": 7,
   "metadata": {},
   "outputs": [
    {
     "name": "stdout",
     "output_type": "stream",
     "text": [
      "Instancia: /home/eitancho/Documentos/Compu/InvOperativa/TP1-InvOp/inputs_v2/input_0.txt\n",
      "Armando la lp\n",
      "Agregando Variables\n",
      "Agregando Restricciones\n",
      "Escribiendo archivo\n"
     ]
    },
    {
     "name": "stderr",
     "output_type": "stream",
     "text": [
      "Warning:  Output names have been modified due to duplicate names or characters invalid in LP format.\n"
     ]
    },
    {
     "name": "stdout",
     "output_type": "stream",
     "text": [
      "Resolviendo la lp\n",
      "Version identifier: 22.1.1.0 | 2022-11-28 | 9160aff4d\n",
      "CPXPARAM_Read_DataCheck                          1\n",
      "Found incumbent of value 0.000000 after 0.07 sec. (30.61 ticks)\n",
      "Tried aggregator 2 times.\n",
      "MIP Presolve eliminated 25758 rows and 509964 columns.\n",
      "MIP Presolve modified 462438 coefficients.\n",
      "Aggregator did 300 substitutions.\n",
      "Reduced MIP has 960453 rows, 486984 columns, and 5490840 nonzeros.\n",
      "Reduced MIP has 486984 binaries, 0 generals, 0 SOSs, and 0 indicators.\n",
      "Presolve time = 11.29 sec. (8222.01 ticks)\n",
      "Probing time = 2.59 sec. (187.62 ticks)\n",
      "Tried aggregator 1 time.\n",
      "Detecting symmetries...\n",
      "Reduced MIP has 960453 rows, 486984 columns, and 5490840 nonzeros.\n",
      "Reduced MIP has 486984 binaries, 0 generals, 0 SOSs, and 0 indicators.\n",
      "Presolve time = 43.38 sec. (11562.13 ticks)\n",
      "Probing time = 2.07 sec. (158.95 ticks)\n",
      "Clique table members: 2768768.\n",
      "MIP emphasis: balance optimality and feasibility.\n",
      "MIP search method: dynamic search.\n",
      "Parallel mode: deterministic, using up to 8 threads.\n",
      "Root relaxation solution time = 94.17 sec. (15329.42 ticks)\n",
      "\n",
      "        Nodes                                         Cuts/\n",
      "   Node  Left     Objective  IInf  Best Integer    Best Bound    ItCnt     Gap\n",
      "\n",
      "*     0+    0                       591866.0000  1183732.0000           100.00%\n",
      "*     0+    0                       633209.0000  1183732.0000            86.94%\n",
      "*     0+    0                       640500.0000  1183732.0000            84.81%\n",
      "*     0+    0                       647654.0000  1183732.0000            82.77%\n",
      "*     0+    0                       656138.0000  1183732.0000            80.41%\n",
      "*     0+    0                       663765.0000  1183732.0000            78.34%\n",
      "*     0+    0                       670777.0000  1183732.0000            76.47%\n",
      "*     0+    0                       678758.0000  1183732.0000            74.40%\n",
      "*     0+    0                       686761.0000  1183732.0000            72.36%\n",
      "*     0+    0                       694574.0000  1183732.0000            70.43%\n",
      "      0     0   955732.0000   178   694574.0000   955732.0000    62553   37.60%\n"
     ]
    }
   ],
   "source": [
    "results = {}\n",
    "contador = 0\n",
    "for path in glob.glob(instances_path + 'input_*.txt'):\n",
    "    if contador >9: \n",
    "        break\n",
    "    print(f\"Instancia: {path}\")\n",
    "    model = Modelo(path)\n",
    "    model = corre_instancia_en_modelo(model, results)\n",
    "    print(f\"Valor objetivo: {model.valor_objetivo()}\")\n",
    "    # print(f\"Gap: {(model.valor_objetivo() - f_objetiva_original) / f_objetiva_original}\")\n",
    "    print(f\"Tiempo de ejecucion: {model.tiempo_ejecucion()}s\")\n",
    "    print()\n",
    "    contador += 1"
   ]
  },
  {
   "cell_type": "code",
   "execution_count": null,
   "metadata": {},
   "outputs": [
    {
     "data": {
      "text/plain": [
       "{'/home/eitancho/Documentos/Compu/InvOperativa/TP1-InvOp/inputs_v2/input_0.txt': {'f_obj': 60446.0,\n",
       "  'tiempo': 0.55},\n",
       " '/home/eitancho/Documentos/Compu/InvOperativa/TP1-InvOp/inputs_v2/input_4.txt': {'f_obj': 19468.0,\n",
       "  'tiempo': 0.171},\n",
       " '/home/eitancho/Documentos/Compu/InvOperativa/TP1-InvOp/inputs_v2/input_3.txt': {'f_obj': 34778.0,\n",
       "  'tiempo': 0.341},\n",
       " '/home/eitancho/Documentos/Compu/InvOperativa/TP1-InvOp/inputs_v2/input_2.txt': {'f_obj': 48084.0,\n",
       "  'tiempo': 0.411},\n",
       " '/home/eitancho/Documentos/Compu/InvOperativa/TP1-InvOp/inputs_v2/input_7.txt': {'f_obj': 64702.0,\n",
       "  'tiempo': 0.619},\n",
       " '/home/eitancho/Documentos/Compu/InvOperativa/TP1-InvOp/inputs_v2/input_6.txt': {'f_obj': 53208.0,\n",
       "  'tiempo': 0.434},\n",
       " '/home/eitancho/Documentos/Compu/InvOperativa/TP1-InvOp/inputs_v2/input_9.txt': {'f_obj': 23126.0,\n",
       "  'tiempo': 0.16},\n",
       " '/home/eitancho/Documentos/Compu/InvOperativa/TP1-InvOp/inputs_v2/input_1.txt': {'f_obj': 26786.0,\n",
       "  'tiempo': 0.189},\n",
       " '/home/eitancho/Documentos/Compu/InvOperativa/TP1-InvOp/inputs_v2/input_8.txt': {'f_obj': 13766.0,\n",
       "  'tiempo': 0.157},\n",
       " '/home/eitancho/Documentos/Compu/InvOperativa/TP1-InvOp/inputs_v2/input_5.txt': {'f_obj': 64052.0,\n",
       "  'tiempo': 1.043}}"
      ]
     },
     "execution_count": 4,
     "metadata": {},
     "output_type": "execute_result"
    }
   ],
   "source": [
    "import json\n",
    "\n",
    "results"
   ]
  }
 ],
 "metadata": {
  "kernelspec": {
   "display_name": "cplex",
   "language": "python",
   "name": "python3"
  },
  "language_info": {
   "codemirror_mode": {
    "name": "ipython",
    "version": 3
   },
   "file_extension": ".py",
   "mimetype": "text/x-python",
   "name": "python",
   "nbconvert_exporter": "python",
   "pygments_lexer": "ipython3",
   "version": "3.9.19"
  }
 },
 "nbformat": 4,
 "nbformat_minor": 2
}
